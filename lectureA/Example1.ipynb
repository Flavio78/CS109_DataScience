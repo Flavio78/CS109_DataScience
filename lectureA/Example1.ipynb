{
 "cells": [
  {
   "cell_type": "code",
   "execution_count": null,
   "metadata": {},
   "outputs": [],
   "source": []
  },
  {
   "cell_type": "code",
   "execution_count": null,
   "metadata": {},
   "outputs": [],
   "source": [
    "from matplotlib.pyplot import subplots, show  # type: ignore\n",
    "from matplotlib.markers import MarkerStyle "
   ]
  },
  {
   "cell_type": "code",
   "execution_count": null,
   "metadata": {},
   "outputs": [],
   "source": [
    "x1 = [3, 4, 5]\n",
    "y1 = [4, 9, 7]\n",
    "z1 = x1 + y1\n",
    "print(f\"Value of z1 is: {z1}\")"
   ]
  },
  {
   "cell_type": "code",
   "execution_count": null,
   "metadata": {},
   "outputs": [],
   "source": [
    "import numpy as np\n",
    "x2 = np.array([3, 4, 5])\n",
    "y2 = np.array([4, 9, 7])\n",
    "z2 = x2 + y2\n",
    "print(f\"Value of z2 is: {z2}\")\n",
    "x3 = np.array([[1, 2, 3], [4, 5, 6]])\n",
    "print(\n",
    "    f\"Value of x3 is: {x3} with {x3.ndim} dimension(s) and type {x3.dtype} with shape {x3.shape}\"\n",
    ")\n",
    "print(np.array([[1, 2], [3.0, 4]]).dtype)\n",
    "print(np.array([[1, 2], [3, 4]], float).dtype)\n",
    "print(f\"Some of x3 is {x3.sum()}\")\n",
    "x4 = np.array([[1, 2], [3.0, 4]])\n",
    "print(f\"x4: {x4}\\ntrasposted x4: {x4.T}\")\n",
    "print(f\"x4^2: {x4**2}\")\n",
    "rng = np.random.default_rng(1303)\n",
    "x5 = rng.normal(loc=10, scale=1, size=50)\n",
    "print(x5, x5.mean())\n",
    "print(f\"Value of z2 is: {z2}\")\n",
    "x3 = np.array([[1, 2, 3], [4, 5, 6]])\n",
    "print(\n",
    "    f\"Value of x3 is: {x3} with {x3.ndim} dimension(s) and type {x3.dtype} with shape {x3.shape}\"\n",
    ")\n",
    "print(np.array([[1, 2], [3.0, 4]]).dtype)\n",
    "print(np.array([[1, 2], [3, 4]], float).dtype)\n",
    "print(f\"Some of x3 is {x3.sum()}\")\n",
    "x4 = np.array([[1, 2], [3.0, 4]])\n",
    "print(f\"x4: {x4}\\ntrasposted x4: {x4.T}\")\n",
    "print(f\"x4^2: {x4**2}\")\n",
    "rng = np.random.default_rng(1303)\n",
    "x5 = rng.normal(loc=10, scale=1, size=50)\n",
    "print(x5, x5.mean())"
   ]
  },
  {
   "cell_type": "code",
   "execution_count": null,
   "metadata": {},
   "outputs": [],
   "source": [
    "from matplotlib.pyplot import subplots\n",
    "from matplotlib.markers import MarkerStyle\n",
    "import numpy as np\n",
    "rng = np.random.default_rng(1303)\n",
    "x = rng.standard_normal(100)\n",
    "y = rng.standard_normal(100)\n",
    "# fig, ax = subplots(figsize=(8, 8))\n",
    "fig, axes = subplots(nrows=2, ncols=3, figsize=(15, 5))\n",
    "fig, ax = subplots(figsize=(8, 8))\n",
    "ax.scatter(x, y, marker=MarkerStyle(\"o\", fillstyle=\"full\"))\n",
    "ax.set_xlabel(\"this is the x-axis\")\n",
    "ax.set_ylabel(\"this is the y-axis\")\n",
    "ax.set_title(\"Plot of X vs Y\")\n",
    "axes[0, 1].plot(x, y, \"o\")\n",
    "axes[1, 2].scatter(x, y, marker=\"+\")\n",
    "fig.set_size_inches(12, 3)"
   ]
  },
  {
   "cell_type": "code",
   "execution_count": null,
   "metadata": {},
   "outputs": [],
   "source": [
    "a = 1\n",
    "b = 5\n",
    "print(a+b)"
   ]
  }
 ],
 "metadata": {
  "kernelspec": {
   "display_name": "base",
   "language": "python",
   "name": "python3"
  },
  "language_info": {
   "codemirror_mode": {
    "name": "ipython",
    "version": 3
   },
   "file_extension": ".py",
   "mimetype": "text/x-python",
   "name": "python",
   "nbconvert_exporter": "python",
   "pygments_lexer": "ipython3",
   "version": "3.11.4"
  },
  "orig_nbformat": 4
 },
 "nbformat": 4,
 "nbformat_minor": 2
}
